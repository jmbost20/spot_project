{
 "cells": [
  {
   "cell_type": "code",
   "execution_count": 1,
   "id": "b50eb9b6",
   "metadata": {
    "scrolled": false
   },
   "outputs": [],
   "source": [
    "###Title: Spotify Project\n",
    "###Author: Jonah Bostrom\n",
    "###Started: 5/18/2022\n",
    "###Finished: ???\n",
    "###Description- Using spotify dataset to do some basic python and data science practice\n",
    "\n",
    "\n",
    "###Resources:  (My code)- CS220 P12 (pandas), CS320 P2 (graphing)\n",
    "###Also: https://www.kaggle.com/datasets/muhmores/spotify-top-100-songs-of-20152019?resource=download"
   ]
  },
  {
   "cell_type": "code",
   "execution_count": 8,
   "id": "cee0a2f5",
   "metadata": {},
   "outputs": [
    {
     "data": {
      "text/plain": [
       "'##################'"
      ]
     },
     "execution_count": 8,
     "metadata": {},
     "output_type": "execute_result"
    }
   ],
   "source": [
    "\n",
    "#######################################################\n",
    "#PART 0- Initializing#############################\n",
    "#######################################################\n"
   ]
  },
  {
   "cell_type": "code",
   "execution_count": 9,
   "id": "5123ec2b",
   "metadata": {
    "scrolled": true
   },
   "outputs": [
    {
     "data": {
      "text/html": [
       "<div>\n",
       "<style scoped>\n",
       "    .dataframe tbody tr th:only-of-type {\n",
       "        vertical-align: middle;\n",
       "    }\n",
       "\n",
       "    .dataframe tbody tr th {\n",
       "        vertical-align: top;\n",
       "    }\n",
       "\n",
       "    .dataframe thead th {\n",
       "        text-align: right;\n",
       "    }\n",
       "</style>\n",
       "<table border=\"1\" class=\"dataframe\">\n",
       "  <thead>\n",
       "    <tr style=\"text-align: right;\">\n",
       "      <th></th>\n",
       "      <th>title</th>\n",
       "      <th>artist</th>\n",
       "      <th>top genre</th>\n",
       "      <th>year released</th>\n",
       "      <th>added</th>\n",
       "      <th>bpm</th>\n",
       "      <th>nrgy</th>\n",
       "      <th>dnce</th>\n",
       "      <th>dB</th>\n",
       "      <th>live</th>\n",
       "      <th>val</th>\n",
       "      <th>dur</th>\n",
       "      <th>acous</th>\n",
       "      <th>spch</th>\n",
       "      <th>pop</th>\n",
       "      <th>top year</th>\n",
       "      <th>artist type</th>\n",
       "    </tr>\n",
       "  </thead>\n",
       "  <tbody>\n",
       "    <tr>\n",
       "      <th>0</th>\n",
       "      <td>STARSTRUKK (feat. Katy Perry)</td>\n",
       "      <td>3OH!3</td>\n",
       "      <td>dance pop</td>\n",
       "      <td>2009</td>\n",
       "      <td>2022?02?17</td>\n",
       "      <td>140</td>\n",
       "      <td>81</td>\n",
       "      <td>61</td>\n",
       "      <td>-6</td>\n",
       "      <td>23</td>\n",
       "      <td>23</td>\n",
       "      <td>203</td>\n",
       "      <td>0</td>\n",
       "      <td>6</td>\n",
       "      <td>70</td>\n",
       "      <td>2010</td>\n",
       "      <td>Duo</td>\n",
       "    </tr>\n",
       "    <tr>\n",
       "      <th>1</th>\n",
       "      <td>My First Kiss (feat. Ke$ha)</td>\n",
       "      <td>3OH!3</td>\n",
       "      <td>dance pop</td>\n",
       "      <td>2010</td>\n",
       "      <td>2022?02?17</td>\n",
       "      <td>138</td>\n",
       "      <td>89</td>\n",
       "      <td>68</td>\n",
       "      <td>-4</td>\n",
       "      <td>36</td>\n",
       "      <td>83</td>\n",
       "      <td>192</td>\n",
       "      <td>1</td>\n",
       "      <td>8</td>\n",
       "      <td>68</td>\n",
       "      <td>2010</td>\n",
       "      <td>Duo</td>\n",
       "    </tr>\n",
       "    <tr>\n",
       "      <th>2</th>\n",
       "      <td>I Need A Dollar</td>\n",
       "      <td>Aloe Blacc</td>\n",
       "      <td>pop soul</td>\n",
       "      <td>2010</td>\n",
       "      <td>2022?02?17</td>\n",
       "      <td>95</td>\n",
       "      <td>48</td>\n",
       "      <td>84</td>\n",
       "      <td>-7</td>\n",
       "      <td>9</td>\n",
       "      <td>96</td>\n",
       "      <td>243</td>\n",
       "      <td>20</td>\n",
       "      <td>3</td>\n",
       "      <td>72</td>\n",
       "      <td>2010</td>\n",
       "      <td>Solo</td>\n",
       "    </tr>\n",
       "    <tr>\n",
       "      <th>3</th>\n",
       "      <td>Airplanes (feat. Hayley Williams of Paramore)</td>\n",
       "      <td>B.o.B</td>\n",
       "      <td>atl hip hop</td>\n",
       "      <td>2010</td>\n",
       "      <td>2022?02?17</td>\n",
       "      <td>93</td>\n",
       "      <td>87</td>\n",
       "      <td>66</td>\n",
       "      <td>-4</td>\n",
       "      <td>4</td>\n",
       "      <td>38</td>\n",
       "      <td>180</td>\n",
       "      <td>11</td>\n",
       "      <td>12</td>\n",
       "      <td>80</td>\n",
       "      <td>2010</td>\n",
       "      <td>Solo</td>\n",
       "    </tr>\n",
       "    <tr>\n",
       "      <th>4</th>\n",
       "      <td>Nothin' on You (feat. Bruno Mars)</td>\n",
       "      <td>B.o.B</td>\n",
       "      <td>atl hip hop</td>\n",
       "      <td>2010</td>\n",
       "      <td>2022?02?17</td>\n",
       "      <td>104</td>\n",
       "      <td>85</td>\n",
       "      <td>69</td>\n",
       "      <td>-6</td>\n",
       "      <td>9</td>\n",
       "      <td>74</td>\n",
       "      <td>268</td>\n",
       "      <td>39</td>\n",
       "      <td>5</td>\n",
       "      <td>79</td>\n",
       "      <td>2010</td>\n",
       "      <td>Solo</td>\n",
       "    </tr>\n",
       "  </tbody>\n",
       "</table>\n",
       "</div>"
      ],
      "text/plain": [
       "                                           title      artist    top genre  \\\n",
       "0                  STARSTRUKK (feat. Katy Perry)       3OH!3    dance pop   \n",
       "1                    My First Kiss (feat. Ke$ha)       3OH!3    dance pop   \n",
       "2                                I Need A Dollar  Aloe Blacc     pop soul   \n",
       "3  Airplanes (feat. Hayley Williams of Paramore)       B.o.B  atl hip hop   \n",
       "4              Nothin' on You (feat. Bruno Mars)       B.o.B  atl hip hop   \n",
       "\n",
       "   year released       added  bpm  nrgy  dnce  dB  live  val  dur  acous  \\\n",
       "0           2009  2022?02?17  140    81    61  -6    23   23  203      0   \n",
       "1           2010  2022?02?17  138    89    68  -4    36   83  192      1   \n",
       "2           2010  2022?02?17   95    48    84  -7     9   96  243     20   \n",
       "3           2010  2022?02?17   93    87    66  -4     4   38  180     11   \n",
       "4           2010  2022?02?17  104    85    69  -6     9   74  268     39   \n",
       "\n",
       "   spch  pop  top year artist type  \n",
       "0     6   70      2010         Duo  \n",
       "1     8   68      2010         Duo  \n",
       "2     3   72      2010        Solo  \n",
       "3    12   80      2010        Solo  \n",
       "4     5   79      2010        Solo  "
      ]
     },
     "execution_count": 9,
     "metadata": {},
     "output_type": "execute_result"
    }
   ],
   "source": [
    "\n",
    "import pandas as pd\n",
    "import matplotlib as plt\n",
    "import io \n",
    "\n",
    "#DF to reference\n",
    "spot_df= pd.read_csv(\"spot_ds.csv\")\n",
    "spot_df.head()\n",
    "# len(spot_df)\n"
   ]
  },
  {
   "cell_type": "code",
   "execution_count": null,
   "id": "46b18843",
   "metadata": {},
   "outputs": [],
   "source": [
    "\n",
    "#######################################################\n",
    "#PART 1- Descriptive Stats#############################\n",
    "#######################################################\n"
   ]
  },
  {
   "cell_type": "code",
   "execution_count": 3,
   "id": "f549b884",
   "metadata": {},
   "outputs": [
    {
     "data": {
      "text/plain": [
       "{'Duo': 70, 'Solo': 748, 'Band/Group': 169, 'Trio': 13}"
      ]
     },
     "execution_count": 3,
     "metadata": {},
     "output_type": "execute_result"
    }
   ],
   "source": [
    "###Descriptive Stats:##################################\n",
    "\n",
    "\n",
    "###1.) Artist Types\n",
    "\n",
    "#find all the types of \"artist types\"\n",
    "art_type_list =list(spot_df.loc[:, \"artist type\"])\n",
    "\n",
    "#better equipped for group by function\n",
    "art_dict= {}\n",
    "for val in art_type_list:\n",
    "    if not val in art_dict:\n",
    "        art_dict[val]= 1\n",
    "    else:\n",
    "        art_dict[val]+=1\n",
    "\n",
    "\n",
    "###SUM --- testing\n",
    "#Comprehension\n",
    "# tot_val= {sum(x) for x in art_dict }\n",
    "tot_count= 0\n",
    "for val in art_dict:\n",
    "    tot_count= art_dict[val]+ tot_count\n",
    "\n",
    "# tot_count\n",
    "# ##convert to tester code\n",
    "# if (tot_count) != 1000:\n",
    "#     print(\"ERROR\", tot_count )\n",
    "    \n",
    "    \n",
    "###Sort the dictionary\n",
    "\n",
    "art_dict\n",
    "\n",
    "\n",
    "# ax= art_dict.plot()\n"
   ]
  },
  {
   "cell_type": "code",
   "execution_count": 4,
   "id": "0061f93e",
   "metadata": {},
   "outputs": [
    {
     "data": {
      "text/plain": [
       "0      False\n",
       "1      False\n",
       "2      False\n",
       "3      False\n",
       "4      False\n",
       "       ...  \n",
       "995    False\n",
       "996    False\n",
       "997    False\n",
       "998    False\n",
       "999    False\n",
       "Name: artist, Length: 1000, dtype: bool"
      ]
     },
     "execution_count": 4,
     "metadata": {},
     "output_type": "execute_result"
    }
   ],
   "source": [
    "###Descriptive Stats:##################################\n",
    "\n",
    "\n",
    "###2.) Popular Year [ON HOLD]\n",
    "\n",
    "#Compare \n",
    "yr_release_list =list(spot_df.loc[:, \"year released\"])\n",
    "top_yr_list =list(spot_df.loc[:, \"top year\"])\n",
    "# print(len(yr_release_list), len(top_yr_list))\n",
    "\n",
    "\n",
    "#get the third row\n",
    "spot_df[spot_df[\"artist\"]==\"B.o.B\"]\n",
    "\n",
    "# spot_df.iloc[spot_df[\"artist\"]== 1]\n",
    "spot_df[\"artist\"]== 1\n",
    "\n",
    "\n",
    "\n",
    "#per entry,  create an object that has yr released and top year \n",
    "# yr_release_dict= {}\n",
    "\n",
    "# for val in art_type_list:\n",
    "#     if not val in art_dict:\n",
    "#         art_dict[val]= 1\n",
    "#     else:\n",
    "#         art_dict[val]+=1\n",
    "\n",
    "        \n",
    "# ###SUM --- testing\n",
    "# #Comprehension\n",
    "# # tot_val= {sum(x) for x in art_dict }\n",
    "# tot_count= 0\n",
    "# for val in art_dict:\n",
    "#     tot_count= art_dict[val]+ tot_count\n",
    "\n",
    "# # tot_count\n",
    "# # ##convert to tester code\n",
    "# # if (tot_count) != 1000:\n",
    "# #     print(\"ERROR\", tot_count )\n",
    "    \n",
    "    \n",
    "# ###Sort the dictionary\n",
    "\n",
    "# art_dict\n",
    "\n",
    "\n",
    "# ax= art_dict.plot()\n",
    "\n",
    "\n",
    "\n"
   ]
  },
  {
   "cell_type": "code",
   "execution_count": 100,
   "id": "9e13df3f",
   "metadata": {},
   "outputs": [
    {
     "data": {
      "text/plain": [
       "<AxesSubplot:xlabel='length'>"
      ]
     },
     "execution_count": 100,
     "metadata": {},
     "output_type": "execute_result"
    },
    {
     "data": {
      "image/png": "[encoded data removed]",
      "text/plain": [
       "<Figure size 432x288 with 1 Axes>"
      ]
     },
     "metadata": {
      "needs_background": "light"
     },
     "output_type": "display_data"
    }
   ],
   "source": [
    "###Descriptive Stats:##################################\n",
    "\n",
    "\n",
    "###3.) title of songs- length of words of song, length of letters per \n",
    "#Abstract words as titles? Like STARSTRUCKK\n",
    "\n",
    "tit_list= list(spot_df.loc[:, \"title\"])\n",
    "\n",
    "###Remove Features\n",
    "# for substring \"(feat\" in list this string and everything to the end of the string with \"\"\n",
    "\n",
    "tit_list = [x.split(\"(\")[0] for x in tit_list]\n",
    "\n",
    "\n",
    "\n",
    "#Encoding- Words that are showing up as question marks bc of encoding problems are still being counted in the length of the song title and thus are not a concern for the song name\n",
    "#len(tit_list[val + 1].split())\n",
    "\n",
    "\n",
    "\n",
    "\n",
    "###Remove Remix\n",
    "# Remove Remix terms\n",
    "# contains \" - \"\n",
    "\n",
    "tit_list = [x.split(\" - \")[0] for x in tit_list]\n",
    "\n",
    "#testing code to check for remixes removed\n",
    "# for element in tit_list:\n",
    "#     if element.find(\"remix\") != -1:\n",
    "#         print(element)\n",
    "#         break\n",
    "        \n",
    "\n",
    "# len(tit_list)\n",
    "###create dictionary of lengths of songs\n",
    "title_length_dictionary= {}\n",
    "for val in tit_list:\n",
    "    len_val= len(val.split())\n",
    "    if not len_val in title_length_dictionary: #even if there is a repeating value we're still entering this code\n",
    "#         print(len_val)\n",
    "        title_length_dictionary[len_val]= 1\n",
    "    else:\n",
    "        title_length_dictionary[len_val]+=1        \n",
    "###Testing- No loss of values\n",
    "# che=list(title_length_dictionary.values())\n",
    "# title_length_dictionary= \n",
    "# sum(che)\n",
    "\n",
    "title_length_dictionary\n",
    "\n",
    "df = pd.DataFrame(list(title_length_dictionary.items()),columns = ['length','frequency']) \n",
    "sort_df = df.sort_values(by=\"length\", ascending=True)\n",
    "\n",
    "# sort_df\n",
    "ax= sort_df.plot.bar(x='length', y='frequency', color= \"blue\", alpha= .5) \n",
    "ax\n",
    "\n"
   ]
  },
  {
   "cell_type": "code",
   "execution_count": 118,
   "id": "7276ab8e",
   "metadata": {},
   "outputs": [
    {
     "data": {
      "text/plain": [
       "'My Songs Know What You Did In The Dark (Light Em Up)'"
      ]
     },
     "execution_count": 118,
     "metadata": {},
     "output_type": "execute_result"
    }
   ],
   "source": [
    "\n",
    "\n",
    "tit_list= list(spot_df.loc[:, \"title\"])\n",
    "\n",
    "tit_list= [x.split(\"(\")[0] for x in tit_list]\n",
    "tit_list= [x.split(\" - \")[0] for x in tit_list]\n",
    "\n",
    "spot_df[\"length\"]= [len(x.split()) for x in tit_list]\n",
    "\n",
    "\n",
    "# for val in length_list:\n",
    "#     len_val= len(val)\n",
    "#     if not len_val in title_length_dictionary: #even if there is a repeating value we're still entering this code\n",
    "# #         print(len_val)\n",
    "#         title_length_dictionary[len_val]= 1\n",
    "#     else:\n",
    "#         title_length_dictionary[len_val]+=1 \n",
    "\n",
    "# spot_df\n",
    "\n",
    "str_val= list(spot_df[(spot_df[\"length\"]==9)][\"title\"])\n",
    "(str_val)[0]"
   ]
  },
  {
   "cell_type": "code",
   "execution_count": 32,
   "id": "e0049217",
   "metadata": {},
   "outputs": [
    {
     "data": {
      "text/plain": [
       "'Where Are � Now '"
      ]
     },
     "execution_count": 32,
     "metadata": {},
     "output_type": "execute_result"
    }
   ],
   "source": [
    "###Part 2- Modelling\n",
    "\n",
    "\n",
    "#Investigate- Pop, dur variables\n",
    "\n",
    "#Data cleaning- added; Could do per year values"
   ]
  }
 ],
 "metadata": {
  "kernelspec": {
   "display_name": "Python 3",
   "language": "python",
   "name": "python3"
  },
  "language_info": {
   "codemirror_mode": {
    "name": "ipython",
    "version": 3
   },
   "file_extension": ".py",
   "mimetype": "text/x-python",
   "name": "python",
   "nbconvert_exporter": "python",
   "pygments_lexer": "ipython3",
   "version": "3.8.8"
  }
 },
 "nbformat": 4,
 "nbformat_minor": 5
}
