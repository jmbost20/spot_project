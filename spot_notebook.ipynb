{
 "cells": [
  {
   "cell_type": "code",
   "execution_count": 1,
   "id": "b50eb9b6",
   "metadata": {
    "scrolled": false
   },
   "outputs": [],
   "source": [
    "###Title: Spotify Project\n",
    "###Author: Jonah Bostrom\n",
    "###Started: 5/18/2022\n",
    "###Finished: ???\n",
    "###Description- Using spotify dataset to do some basic python and data science practice\n",
    "###Question\n",
    "\n",
    "###Resources:  (My code)- CS220 P12 (pandas), CS320 P2 (graphing)\n",
    "###Also: https://www.kaggle.com/datasets/muhmores/spotify-top-100-songs-of-20152019?resource=download"
   ]
  },
  {
   "cell_type": "code",
   "execution_count": 3,
   "id": "5123ec2b",
   "metadata": {
    "scrolled": true
   },
   "outputs": [
    {
     "name": "stdout",
     "output_type": "stream",
     "text": [
      "<class 'pandas.core.frame.DataFrame'>\n",
      "RangeIndex: 1000 entries, 0 to 999\n",
      "Data columns (total 17 columns):\n",
      " #   Column         Non-Null Count  Dtype \n",
      "---  ------         --------------  ----- \n",
      " 0   title          1000 non-null   object\n",
      " 1   artist         1000 non-null   object\n",
      " 2   top genre      1000 non-null   object\n",
      " 3   year released  1000 non-null   int64 \n",
      " 4   added          1000 non-null   object\n",
      " 5   bpm            1000 non-null   int64 \n",
      " 6   nrgy           1000 non-null   int64 \n",
      " 7   dnce           1000 non-null   int64 \n",
      " 8   dB             1000 non-null   int64 \n",
      " 9   live           1000 non-null   int64 \n",
      " 10  val            1000 non-null   int64 \n",
      " 11  dur            1000 non-null   int64 \n",
      " 12  acous          1000 non-null   int64 \n",
      " 13  spch           1000 non-null   int64 \n",
      " 14  pop            1000 non-null   int64 \n",
      " 15  top year       1000 non-null   int64 \n",
      " 16  artist type    1000 non-null   object\n",
      "dtypes: int64(12), object(5)\n",
      "memory usage: 132.9+ KB\n"
     ]
    }
   ],
   "source": [
    "\n",
    "import pandas as pd\n",
    "import matplotlib.pyplot as plt\n",
    "import io \n",
    "\n",
    "#DF to reference\n",
    "spot_df= pd.read_csv(\"spot_ds.csv\")\n",
    "spot_df.head()\n",
    "spot_df.info()\n",
    "# len(spot_df)\n"
   ]
  },
  {
   "cell_type": "markdown",
   "id": "afc2bdef",
   "metadata": {},
   "source": [
    "# Descriptive Stats"
   ]
  },
  {
   "cell_type": "code",
   "execution_count": 4,
   "id": "9e13df3f",
   "metadata": {},
   "outputs": [
    {
     "data": {
      "text/plain": [
       "<AxesSubplot:xlabel='length'>"
      ]
     },
     "execution_count": 4,
     "metadata": {},
     "output_type": "execute_result"
    },
    {
     "data": {
      "image/png": "[encoded data removed]",
      "text/plain": [
       "<Figure size 432x288 with 1 Axes>"
      ]
     },
     "metadata": {
      "needs_background": "light"
     },
     "output_type": "display_data"
    }
   ],
   "source": [
    "###Descriptive Stats:##################################\n",
    "#what is the distribution of song title lengths\n",
    "\n",
    "###3.) title of songs- length of words of song, length of letters per \n",
    "#Abstract words as titles? Like STARSTRUCKK\n",
    "tit_list= list(spot_df.loc[:, \"title\"])\n",
    "\n",
    "###Remove Features\n",
    "# for substring \"(feat\" in list this string and everything to the end of the string with \"\"\n",
    "tit_list = [x.split(\"(\")[0] for x in tit_list]\n",
    "\n",
    "\n",
    "#Encoding- Words that are showing up as question marks bc of encoding problems are still being counted in the length of the song title and thus are not a concern for the song name\n",
    "#len(tit_list[val + 1].split())\n",
    "\n",
    "\n",
    "###Remove Remix\n",
    "# Remove Remix terms\n",
    "# contains \" - \"\n",
    "tit_list = [x.split(\" - \")[0] for x in tit_list]\n",
    "\n",
    "#TESTING code to check for remixes removed\n",
    "# for element in tit_list:\n",
    "#     if element.find(\"remix\") != -1:\n",
    "#         print(element)\n",
    "#         break\n",
    "        \n",
    "\n",
    "###create dictionary of lengths of songs\n",
    "title_length_dictionary= {}\n",
    "for val in tit_list:\n",
    "    len_val= len(val.split())\n",
    "    if not len_val in title_length_dictionary: #even if there is a repeating value we're still entering this code\n",
    "#         print(len_val)\n",
    "        title_length_dictionary[len_val]= 1\n",
    "    else:\n",
    "        title_length_dictionary[len_val]+=1        \n",
    "###Testing- No loss of values\n",
    "# che=list(title_length_dictionary.values())\n",
    "# title_length_dictionary= \n",
    "# sum(che)\n",
    "\n",
    "title_length_dictionary\n",
    "\n",
    "df = pd.DataFrame(list(title_length_dictionary.items()),columns = ['length','frequency']) \n",
    "sort_df = df.sort_values(by=\"length\", ascending=True)\n",
    "\n",
    "ax= sort_df.plot.bar(x='length', y='frequency', color= \"blue\", alpha= .5) \n",
    "ax\n"
   ]
  },
  {
   "cell_type": "code",
   "execution_count": 5,
   "id": "7276ab8e",
   "metadata": {},
   "outputs": [
    {
     "data": {
      "text/plain": [
       "['My Songs Know What You Did In The Dark (Light Em Up)']"
      ]
     },
     "execution_count": 5,
     "metadata": {},
     "output_type": "execute_result"
    }
   ],
   "source": [
    "#What is the longest titled song (by words)\n",
    "\n",
    "tit_list= list(spot_df.loc[:, \"title\"])\n",
    "\n",
    "tit_list= [x.split(\"(\")[0] for x in tit_list]\n",
    "tit_list= [x.split(\" - \")[0] for x in tit_list]\n",
    "\n",
    "spot_df[\"length (title)\"]= [len(x.split()) for x in tit_list]\n",
    "\n",
    "\n",
    "# for val in length_list:\n",
    "#     len_val= len(val)\n",
    "#     if not len_val in title_length_dictionary: #even if there is a repeating value we're still entering this code\n",
    "# #         print(len_val)\n",
    "#         title_length_dictionary[len_val]= 1\n",
    "#     else:\n",
    "#         title_length_dictionary[len_val]+=1 \n",
    "\n",
    "# spot_df\n",
    "\n",
    "str_val= list(spot_df[(spot_df[\"length (title)\"]==9)][\"title\"])\n",
    "\n",
    "str_val"
   ]
  },
  {
   "cell_type": "code",
   "execution_count": 6,
   "id": "c3023905",
   "metadata": {},
   "outputs": [
    {
     "data": {
      "text/html": [
       "<div>\n",
       "<style scoped>\n",
       "    .dataframe tbody tr th:only-of-type {\n",
       "        vertical-align: middle;\n",
       "    }\n",
       "\n",
       "    .dataframe tbody tr th {\n",
       "        vertical-align: top;\n",
       "    }\n",
       "\n",
       "    .dataframe thead th {\n",
       "        text-align: right;\n",
       "    }\n",
       "</style>\n",
       "<table border=\"1\" class=\"dataframe\">\n",
       "  <thead>\n",
       "    <tr style=\"text-align: right;\">\n",
       "      <th></th>\n",
       "      <th>title</th>\n",
       "      <th>artist</th>\n",
       "      <th>top genre</th>\n",
       "      <th>year released</th>\n",
       "      <th>added</th>\n",
       "      <th>bpm</th>\n",
       "      <th>nrgy</th>\n",
       "      <th>dnce</th>\n",
       "      <th>dB</th>\n",
       "      <th>live</th>\n",
       "      <th>val</th>\n",
       "      <th>dur</th>\n",
       "      <th>acous</th>\n",
       "      <th>spch</th>\n",
       "      <th>pop</th>\n",
       "      <th>top year</th>\n",
       "      <th>artist type</th>\n",
       "      <th>length (title)</th>\n",
       "    </tr>\n",
       "  </thead>\n",
       "  <tbody>\n",
       "    <tr>\n",
       "      <th>975</th>\n",
       "      <td>Adan y Eva</td>\n",
       "      <td>Paulo Londra</td>\n",
       "      <td>argentine hip hop</td>\n",
       "      <td>2019</td>\n",
       "      <td>2020?06?22</td>\n",
       "      <td>172</td>\n",
       "      <td>71</td>\n",
       "      <td>77</td>\n",
       "      <td>-4</td>\n",
       "      <td>7</td>\n",
       "      <td>72</td>\n",
       "      <td>257</td>\n",
       "      <td>32</td>\n",
       "      <td>34</td>\n",
       "      <td>76</td>\n",
       "      <td>2019</td>\n",
       "      <td>Solo</td>\n",
       "      <td>3</td>\n",
       "    </tr>\n",
       "  </tbody>\n",
       "</table>\n",
       "</div>"
      ],
      "text/plain": [
       "          title        artist          top genre  year released       added  \\\n",
       "975  Adan y Eva  Paulo Londra  argentine hip hop           2019  2020?06?22   \n",
       "\n",
       "     bpm  nrgy  dnce  dB  live  val  dur  acous  spch  pop  top year  \\\n",
       "975  172    71    77  -4     7   72  257     32    34   76      2019   \n",
       "\n",
       "    artist type  length (title)  \n",
       "975        Solo               3  "
      ]
     },
     "execution_count": 6,
     "metadata": {},
     "output_type": "execute_result"
    }
   ],
   "source": [
    "#what is an example of one of a song that is in the rarest category of 'top genre'\n",
    "#what are all the categories of top genre?\n",
    "##Make the category even rarer by comparing the of the top genre to all other genre names\n",
    "###Conditional Variables\n",
    "\n",
    "#group_by?\n",
    "# spot_df.loc[:, \"top genre\"]\n",
    "\n",
    "cat_count= spot_df['top genre'].value_counts() #series\n",
    "cat_count\n",
    "\n",
    "#accessing the value from the DF\n",
    "spot_df[spot_df[\"top genre\"]== \"argentine hip hop\"]\n"
   ]
  },
  {
   "cell_type": "code",
   "execution_count": 7,
   "id": "ea821ad1",
   "metadata": {},
   "outputs": [
    {
     "data": {
      "image/png": "[encoded data removed]",
      "text/plain": [
       "<Figure size 432x288 with 1 Axes>"
      ]
     },
     "metadata": {},
     "output_type": "display_data"
    }
   ],
   "source": [
    "# How are the distributions of \"artist type\" across the entire data set and \"artist type\" \n",
    "#across only \"hip hop/ rap\" artists different?\n",
    "###Conditional Variables\n",
    "\n",
    "\n",
    "#Percentage of artist over time\n",
    "#what percentage of hip hop artists are single, duo, etc.\n",
    "\n",
    "##Total distribution of artist type\n",
    "artist_type= spot_df[\"artist type\"].value_counts()\n",
    "\n",
    "artist_type_dict= dict(artist_type)\n",
    "\n",
    "#want every value divided by sum\n",
    "upd_dict= {k : v/ total for total in (sum(artist_type_dict.values()),) for k,v in artist_type_dict.items()}\n",
    "upd_dict #percentages\n",
    "\n",
    "\n",
    "fig1, ax1 = plt.subplots()\n",
    "ax1.pie(upd_dict.values(), labels=upd_dict.keys(), autopct='%1.1f%%')\n",
    "\n",
    "ax1.axis('equal')  # Equal aspect ratio ensures that pie is drawn as a circle.\n",
    "# , startangle=90\n",
    "plt.title('Percentage of ALL Artist Types')\n",
    "\n",
    "plt.show()\n"
   ]
  },
  {
   "cell_type": "code",
   "execution_count": 8,
   "id": "07e17dc3",
   "metadata": {},
   "outputs": [
    {
     "data": {
      "image/png": "[encoded data removed]",
      "text/plain": [
       "<Figure size 432x288 with 1 Axes>"
      ]
     },
     "metadata": {},
     "output_type": "display_data"
    }
   ],
   "source": [
    "#contains hip hop, not just is pure hip hop\n",
    "genre_list= list(dict(spot_df[\"top genre\"].value_counts()).keys())\n",
    "\n",
    "#if top genre in this list then include\n",
    "contains_hh_list= [x for x in genre_list if \"hip hop\" in x or \"rap\" in x]\n",
    "contains_hh_list\n",
    "\n",
    "#how do I return a df that has a top genre with any of these values\n",
    "hip_hop_df= (spot_df[spot_df[\"top genre\"].isin(contains_hh_list)])\n",
    "\n",
    "hh_genre_dict = dict(hip_hop_df[\"artist type\"].value_counts())\n",
    "\n",
    "hh_dist= {k : v/ total for total in (sum(hh_genre_dict.values()),) for k,v in hh_genre_dict.items() }\n",
    "# hh_dist\n",
    "\n",
    "hh_dist\n",
    "\n",
    "#compare these 2 distributions\n",
    "\n",
    "\n",
    "fig1, ax1 = plt.subplots()\n",
    "ax1.pie(hh_dist.values(), labels=hh_dist.keys(), autopct='%1.1f%%')\n",
    "\n",
    "ax1.axis('equal')  # Equal aspect ratio ensures that pie is drawn as a circle.\n",
    "# , startangle=90\n",
    "plt.title('Percentage of Hip Hop Artist Types')\n",
    "\n",
    "plt.show()\n",
    "\n"
   ]
  },
  {
   "cell_type": "code",
   "execution_count": 9,
   "id": "ac801fb0",
   "metadata": {},
   "outputs": [
    {
     "name": "stdout",
     "output_type": "stream",
     "text": [
      "444\n"
     ]
    },
    {
     "data": {
      "image/png": "[encoded data removed]",
      "text/plain": [
       "<Figure size 432x288 with 1 Axes>"
      ]
     },
     "metadata": {
      "needs_background": "light"
     },
     "output_type": "display_data"
    }
   ],
   "source": [
    "###Are all artist's top genre just the same; Answer- Yes\n",
    "\n",
    "#how many artists make up the top hips playlist\n",
    "\n",
    "artist_dict=(spot_df[\"artist\"].value_counts())\n",
    "\n",
    "artist_dict= artist_dict[artist_dict>=10]\n",
    "artist_dict= dict(artist_dict)\n",
    "\n",
    "artist_list= list(dict(spot_df[\"artist\"].value_counts()).keys())\n",
    "print(len(artist_list)) #total artists\n",
    "\n",
    "\n",
    "# artists with over 10 appearances\n",
    "keys= artist_dict.keys()\n",
    "values= artist_dict.values()\n",
    "plt.bar(keys, values)\n",
    "plt.xticks(rotation= 45)\n",
    "plt.show()\n",
    "\n",
    "# plt.xticks(y_pos, bars, color='orange', rotation=45, fontweight='bold', fontsize='17', horizontalalignment='right')\n",
    "# plt.show()\n",
    "\n",
    "# ax1.bar(keys, values)\n",
    "\n",
    "# df = pd.DataFrame(artist_dict,columns = artist_dict.keys()) \n",
    "# sort_df = df.sort_values(by=\"length\", ascending=True)\n",
    "\n",
    "# ax= sort_df.plot.bar(x='length', y='frequency', color= \"blue\", alpha= .5) \n",
    "# ax\n"
   ]
  },
  {
   "cell_type": "code",
   "execution_count": 10,
   "id": "0ca944d6",
   "metadata": {},
   "outputs": [
    {
     "name": "stderr",
     "output_type": "stream",
     "text": [
      "<ipython-input-10-1f5637306a8b>:40: SettingWithCopyWarning: \n",
      "A value is trying to be set on a copy of a slice from a DataFrame.\n",
      "Try using .loc[row_indexer,col_indexer] = value instead\n",
      "\n",
      "See the caveats in the documentation: https://pandas.pydata.org/pandas-docs/stable/user_guide/indexing.html#returning-a-view-versus-a-copy\n",
      "  spot_df_time[\"year\"]= [x[0:4] for x in spot_df_time[\"added\"]]\n",
      "<ipython-input-10-1f5637306a8b>:41: SettingWithCopyWarning: \n",
      "A value is trying to be set on a copy of a slice from a DataFrame.\n",
      "Try using .loc[row_indexer,col_indexer] = value instead\n",
      "\n",
      "See the caveats in the documentation: https://pandas.pydata.org/pandas-docs/stable/user_guide/indexing.html#returning-a-view-versus-a-copy\n",
      "  spot_df_time[\"month\"]=  [x[5:7] for x in spot_df_time[\"added\"]]\n"
     ]
    },
    {
     "data": {
      "text/plain": [
       "year  month\n",
       "2020  06       751\n",
       "      08        11\n",
       "2021  01        91\n",
       "      03         1\n",
       "      05         2\n",
       "      06        12\n",
       "      08        24\n",
       "      09         1\n",
       "      10         2\n",
       "      11         1\n",
       "2022  01         2\n",
       "      02       100\n",
       "      03         2\n",
       "Name: title, dtype: int64"
      ]
     },
     "execution_count": 10,
     "metadata": {},
     "output_type": "execute_result"
    }
   ],
   "source": [
    "# how did the top genres change over the years? [Dict within a dict]\n",
    "# how did the length of songs change over the years?\n",
    " \n",
    "\n",
    "#group by year released, sum top genre\n",
    "\n",
    "#count total member, not total length\n",
    "# spot_df.groupby([\"year released\"])[\"year released\"].count()\n",
    "\n",
    "#Clean value xxxx?xx?xx\n",
    "test= (spot_df.loc[:,\"added\"])\n",
    "# test\n",
    "#check that all values have length of 10\n",
    "[print(False) for x in test if len(x)!=10]\n",
    "\n",
    "\n",
    "# spot_df\n",
    "#convert added to date time\n",
    "date_val= test[0].split(\"?\")\n",
    "new_date_val= date_val[1] + \"/\" +date_val[2] +\"/\" +date_val[0]\n",
    "new_date_val\n",
    "\n",
    "#What songs were in 1975?\n",
    "# spot_df[spot_df[\"year released\"]== 1975]\n",
    "# what event would've caused this to get added?\n",
    "\n",
    "spot_df\n",
    "spot_df_time= spot_df[[\"title\",\"artist\", \"top genre\",\"added\", \"year released\", \"top year\", \"length (title)\"]]\n",
    "#convert added column to just the year\n",
    "\n",
    "\n",
    "#only spans 3 years\n",
    "# def year_fn(x):\n",
    "#     return x[0:4]\n",
    "# spot_df_time[\"added\"]= spot_df_time[\"added\"].apply(year_fn)\n",
    "# spot_df_time\n",
    "# (spot_df_time[\"added\"]).value_counts()\n",
    "\n",
    "\n",
    "spot_df_time[\"year\"]= [x[0:4] for x in spot_df_time[\"added\"]]\n",
    "spot_df_time[\"month\"]=  [x[5:7] for x in spot_df_time[\"added\"]]\n",
    "\n",
    "spot_df_time.groupby([\"year\", \"month\"])[\"title\"].count()\n",
    "\n",
    "# spot_df_time[\"month\"].value_counts()\n",
    "# spot_df_time\n",
    "\n"
   ]
  },
  {
   "cell_type": "code",
   "execution_count": 11,
   "id": "e0049217",
   "metadata": {},
   "outputs": [],
   "source": [
    "###Part 2- Modelling\n",
    "\n",
    "\n",
    "###Regression\n",
    "# clf = LinearRegression()\n",
    "# clf.fit(train[[xcols]], train[\"Underdog\"])\n",
    "\n",
    "# predicted = clf.predict(X_test)\n",
    "# expected = y_test\n",
    "# print(\"RMS: %s\" % np.sqrt(np.mean((predicted - expected) ** 2))) \n",
    "\n",
    "#predict pop from danceability\n",
    "\n",
    "#Investigate- Pop, dur variables\n",
    "\n",
    "#Data cleaning- added; Could do per year values"
   ]
  }
 ],
 "metadata": {
  "kernelspec": {
   "display_name": "Python 3",
   "language": "python",
   "name": "python3"
  },
  "language_info": {
   "codemirror_mode": {
    "name": "ipython",
    "version": 3
   },
   "file_extension": ".py",
   "mimetype": "text/x-python",
   "name": "python",
   "nbconvert_exporter": "python",
   "pygments_lexer": "ipython3",
   "version": "3.8.8"
  }
 },
 "nbformat": 4,
 "nbformat_minor": 5
}
